{
 "cells": [
  {
   "cell_type": "code",
   "execution_count": 7,
   "metadata": {},
   "outputs": [
    {
     "name": "stdout",
     "output_type": "stream",
     "text": [
      "(1) Calculate the entropy of S\n\nEntropy(tennis) =  0.9402859586706311\n\n(2) Calculate the information gain Gain(S,A):\n\nGain(tennis, Outlook) =  0.24674981977443933\nGain(tennis, Temperature) =  0.02922256565895487\nGain(tennis, Humidity) =  0.15183550136234164\nGain(tennis, Wind) =  0.048127030408269544\n\n(3) Estimate the Information Gain of all the attributes:\n\nGain(tennis, Outlook) =  0.24674981977443933\nGain(tennis, Temperature) =  0.02922256565895487\nGain(tennis, Humidity) =  0.15183550136234164\nGain(tennis, Wind) =  0.048127030408269544\n\nBecause the attribute Outlook has the highest information gain, so we choose the Outlook as the root node.\n"
     ]
    }
   ],
   "source": [
    "import numpy as np\n",
    "import pandas as pd\n",
    "\n",
    "\n",
    "def calc_ent(df, target_label):\n",
    "    \"\"\" Calculate the entropy of df.\n",
    "    \n",
    "    :param df: the data frame to calculate\n",
    "    :param target_label: the index name of target\n",
    "    :return ent: the entropy of df\n",
    "    \"\"\"\n",
    "    df_value_list = set()\n",
    "    \n",
    "    for index, row in df.iterrows():\n",
    "        df_value_list.add(row[target_label])\n",
    "        \n",
    "    ent = 0.0\n",
    "    for df_value in df_value_list:\n",
    "        p = float(df[df.loc[:,target_label] == df_value].shape[0])/df.shape[0]\n",
    "        log_p = np.log2(p)\n",
    "        ent -= p * log_p \n",
    "        \n",
    "    return ent\n",
    "\n",
    "\n",
    "def calc_info_gain(df, a, target_label):\n",
    "    \"\"\" Calculate the information gain Gain(df, a, target_label).\n",
    "    \n",
    "    :param df: the data frame to calculate\n",
    "    :param a: the attribute\n",
    "    :param target_label: the index name of target\n",
    "    :return: the information gain of df by the given attribute a\n",
    "    \"\"\"\n",
    "    # entropy of x\n",
    "    ent_df = calc_ent(df, target_label)\n",
    "    \n",
    "    # a_value_list\n",
    "    a_value_list = set()\n",
    "    for index, row in df.iterrows():\n",
    "        a_value_list.add(row[a])\n",
    "    \n",
    "    # calculate the information gain\n",
    "    info_gain = ent_df\n",
    "    for a_value in a_value_list:\n",
    "        df_a_value = df[df.loc[:,a] == a_value]\n",
    "        ent_df_a_value = calc_ent(df_a_value, target_label)\n",
    "        info_gain -= float(df_a_value.shape[0]) / df.shape[0] * ent_df_a_value\n",
    "        \n",
    "    return info_gain\n",
    "\n",
    "\n",
    "# Read the file.\n",
    "tennis = pd.read_csv('tennis.csv', header=0, usecols=[1, 2, 3, 4, 5]) \n",
    "    \n",
    "\n",
    "# (1) Test of (1)\n",
    "print('(1) Calculate the entropy of S')\n",
    "print('\\nEntropy(tennis) = ', calc_ent(tennis, 'PlayTennis'))\n",
    "\n",
    "# (2) Test of (2)\n",
    "print('\\n(2) Calculate the information gain Gain(S,A):\\n')\n",
    "print('Gain(tennis, Outlook) = ', calc_info_gain(tennis, 'Outlook', 'PlayTennis'))\n",
    "print('Gain(tennis, Temperature) = ', calc_info_gain(tennis, 'Temperature', 'PlayTennis'))\n",
    "print('Gain(tennis, Humidity) = ', calc_info_gain(tennis, 'Humidity', 'PlayTennis'))\n",
    "print('Gain(tennis, Wind) = ', calc_info_gain(tennis, 'Wind', 'PlayTennis'))\n",
    "\n",
    "# (3) Estimate the Information Gain of all the attributes. \n",
    "print('\\n(3) Estimate the Information Gain of all the attributes:\\n')\n",
    "print('Gain(tennis, Outlook) = ', calc_info_gain(tennis, 'Outlook', 'PlayTennis'))\n",
    "print('Gain(tennis, Temperature) = ', calc_info_gain(tennis, 'Temperature', 'PlayTennis'))\n",
    "print('Gain(tennis, Humidity) = ', calc_info_gain(tennis, 'Humidity', 'PlayTennis'))\n",
    "print('Gain(tennis, Wind) = ', calc_info_gain(tennis, 'Wind', 'PlayTennis'))\n",
    "\n",
    "print('\\nBecause the attribute Outlook has the highest information gain, '\n",
    "      'so we choose the Outlook as the root node.')\n",
    "\n",
    "\n",
    "\n"
   ]
  },
  {
   "cell_type": "code",
   "execution_count": null,
   "metadata": {},
   "outputs": [],
   "source": []
  }
 ],
 "metadata": {
  "kernelspec": {
   "display_name": "Python 3",
   "language": "python",
   "name": "python3"
  },
  "language_info": {
   "codemirror_mode": {
    "name": "ipython",
    "version": 3
   },
   "file_extension": ".py",
   "mimetype": "text/x-python",
   "name": "python",
   "nbconvert_exporter": "python",
   "pygments_lexer": "ipython3",
   "version": "3.6.6"
  }
 },
 "nbformat": 4,
 "nbformat_minor": 2
}
