{
 "cells": [
  {
   "cell_type": "code",
   "execution_count": 13,
   "metadata": {},
   "outputs": [
    {
     "data": {
      "image/png": "[encoded data removed]",
      "text/plain": [
       "<Figure size 432x288 with 1 Axes>"
      ]
     },
     "metadata": {},
     "output_type": "display_data"
    }
   ],
   "source": [
    "import matplotlib.pyplot as plt\n",
    "\n",
    "# define nodeType 叶结点，判别结点，箭头类型的定义\n",
    "\n",
    "decisionNode=dict(boxstyle=\"sawtooth\",fc=\"0.8\")\n",
    "leafNode=dict(boxstyle=\"round4\",fc=\"0.8\")\n",
    "arrow_args=dict(arrowstyle=\"<-\")\n",
    "\n",
    "# 定义结点函数\n",
    "\n",
    "# def plotNode(nodeText,centerPt,parentPt,nodeType):\n",
    "#     createPlot.ax1.annotate(nodeText,xy=parentPt,xycoords='axes fraction',xytext=centerPt,textcoords='axes fraction',\n",
    "#                            va='center',ha='center',bbox=nodeType,arrowprops=arrow_args)\n",
    "#     # 这个参数多的有点恐怖．没有看懂\n",
    "\n",
    "# # 创造一个绘制图\n",
    "\n",
    "def plotNode(nodeText,centerPt,nodeType):\n",
    "    createPlot.ax1.annotate(nodeText,xy=centerPt,xytext=centerPt,textcoords='axes fraction',\n",
    "                           va='center',ha='center',bbox=nodeType,arrowprops=arrow_args)\n",
    "    # 这个参数多的有点恐怖．没有看懂\n",
    "\n",
    "# 创造一个绘制图\n",
    "\n",
    "def createPlot():\n",
    "    fig=plt.figure(1,facecolor='white')\n",
    "    fig.clf()                 #create a new figure and clear it  将新建的画板进行清理　\n",
    "    createPlot.ax1=plt.subplot(111,frameon=False)\n",
    "    plotNode('a decision node ',(0.5,0.1),decisionNode)\n",
    "    plotNode('a leaf node',(0.8,0.1),leafNode)\n",
    "    plt.show()\n",
    "\n",
    "\n",
    "createPlot()"
   ]
  },
  {
   "cell_type": "code",
   "execution_count": null,
   "metadata": {},
   "outputs": [],
   "source": []
  },
  {
   "cell_type": "code",
   "execution_count": null,
   "metadata": {},
   "outputs": [],
   "source": []
  }
 ],
 "metadata": {
  "kernelspec": {
   "display_name": "Python 3",
   "language": "python",
   "name": "python3"
  },
  "language_info": {
   "codemirror_mode": {
    "name": "ipython",
    "version": 3
   },
   "file_extension": ".py",
   "mimetype": "text/x-python",
   "name": "python",
   "nbconvert_exporter": "python",
   "pygments_lexer": "ipython3",
   "version": "3.6.6"
  }
 },
 "nbformat": 4,
 "nbformat_minor": 2
}
